{
 "cells": [
  {
   "cell_type": "code",
   "execution_count": 21,
   "metadata": {},
   "outputs": [],
   "source": [
    "from __future__ import print_function\n",
    "import numpy as np\n",
    "import astropy.units as u\n",
    "import matplotlib.pyplot as plt\n",
    "import OpenGoddard.optimize as og\n",
    "#from OpenGoddard.optimize import Problem, Guess, Condition, Dynamics\n",
    "import math\n",
    "\n"
   ]
  },
  {
   "cell_type": "code",
   "execution_count": 22,
   "metadata": {},
   "outputs": [],
   "source": [
    "class Orbiter:\n",
    "    def __init__(self):\n",
    "        \n",
    "        #note, if d_ is used, it refers to dimensional quantity in SI units. \n",
    "        \n",
    "        AU = 1.5*10**11;\n",
    "        mu_sun = (6.67*10**-11)*(2*10**30) #SI units\n",
    "        year = 3.154*10**7 #seconds\n",
    "        \n",
    "        #set up non-d params\n",
    "        \n",
    "        self.lref = 1*AU; #1 AU\n",
    "        self.vref = np.sqrt(mu_sun/self.lref) #v of earths orbit\n",
    "        self.tref = self.lref/self.vref\n",
    "        self.aref = (self.vref)**2/self.lref\n",
    "        self.wref = 1/self.tref;\n",
    "        \n",
    "        self.d_mdry = 3500; #kg\n",
    "        \n",
    "        #assign operating limits\n",
    "        self.d_a_max = 0.5/self.d_mdry; #assuming 0.5N for vehicle mass of 5000 kg\n",
    "        \n",
    "        self.d_tf_max = 3.5*year;\n",
    "        \n",
    "        \n",
    "        #assign initial conditions\n",
    "        self.d_r0 = 1*AU;\n",
    "        self.d_vr0 = 0;\n",
    "        self.d_vt0 = np.sqrt(mu_sun/(1*AU));\n",
    "        self.d_w0 =self.d_vt0/self.d_r0; #earths orbital speed\n",
    "        \n",
    "        \n",
    "        \n",
    "        self.d_rf = 0.723*AU;\n",
    "        self.d_vrf = 0;\n",
    "        self.d_final_apogee = 1.65*AU;\n",
    "        self.d_final_semimajor = (self.d_rf+self.d_final_apogee)/2;        \n",
    "        self.d_vtf = np.sqrt(mu_sun*(2/self.d_rf - 1/self.d_final_semimajor)); #vis viva equation at venus apogee.\n",
    "        self.d_wf = self.d_vtf/self.d_rf;\n",
    "        \n",
    "        \n",
    "        #non-dimensionalise\n",
    "        self.u_max  = self.d_a_max/self.aref;\n",
    "        self.r0     = self.d_r0 /self.lref;\n",
    "        self.vr0    = self.d_vr0/self.vref;\n",
    "        self.vt0    = self.d_vt0/self.vref;\n",
    "        self.rf     = self.d_rf /self.lref;\n",
    "        self.vrf    = self.d_vrf/self.vref;\n",
    "        self.vtf    = self.d_vtf/self.vref;\n",
    "        self.tf_max = self.d_tf_max/self.tref;\n",
    "\n",
    "\n",
    "def dynamics(prob, obj, section):\n",
    "    r   = prob.states(0, section)\n",
    "    vr  = prob.states(1, section)\n",
    "    vt  = prob.states(2, section)\n",
    "    ur1 = prob.controls(0, section)\n",
    "    ur2 = prob.controls(1, section)\n",
    "    ut1 = prob.controls(2, section)\n",
    "    ut2 = prob.controls(3, section)\n",
    "\n",
    "    dx = og.Dynamics(prob, section)\n",
    "    dx[0] = vr\n",
    "    dx[1] = vt**2 / r - 1 / r**2 + (ur1 - ur2)\n",
    "    dx[2] = - vr * vt / r + (ut1 - ut2)\n",
    "    return dx()\n",
    "\n",
    "\n",
    "def equality(prob, obj):\n",
    "    r   = prob.states_all_section(0)\n",
    "    vr  = prob.states_all_section(1)\n",
    "    vt  = prob.states_all_section(2)\n",
    "    ur1 = prob.controls_all_section(0)\n",
    "    ur2 = prob.controls_all_section(1)\n",
    "    ut1 = prob.controls_all_section(2)\n",
    "    ut2 = prob.controls_all_section(3)\n",
    "    tf  = prob.time_final(-1)\n",
    "\n",
    "    result = og.Condition()\n",
    "\n",
    "    # event condition\n",
    "    result.equal(r[0], obj.r0)\n",
    "    result.equal(vr[0], obj.vr0)\n",
    "    result.equal(vt[0], obj.vt0)\n",
    "    result.equal(r[-1], obj.rf)\n",
    "    result.equal(vr[-1], obj.vrf)\n",
    "\n",
    "\n",
    "    return result()\n",
    "\n",
    "\n",
    "def inequality(prob, obj):\n",
    "    r   = prob.states_all_section(0)\n",
    "    vr  = prob.states_all_section(1)\n",
    "    vt  = prob.states_all_section(2)\n",
    "    ur1 = prob.controls_all_section(0)\n",
    "    ur2 = prob.controls_all_section(1)\n",
    "    ut1 = prob.controls_all_section(2)\n",
    "    ut2 = prob.controls_all_section(3)\n",
    "    tf  = prob.time_final(-1)\n",
    "\n",
    "    result = og.Condition()\n",
    "\n",
    "    # lower bounds\n",
    "    result.lower_bound(r, 0.5*min(obj.r0,obj.rf))\n",
    "    result.lower_bound(ur1, 0.0)\n",
    "    result.lower_bound(ut1, 0.0)\n",
    "    result.lower_bound(ur2, 0.0)\n",
    "    result.lower_bound(ut2, 0.0)\n",
    "    result.lower_bound(tf, 0.0)\n",
    "    result.lower_bound(vt[-1],obj.vtf) #requries minimum final tangential speed, no upper bound set. \n",
    "\n",
    "    # upper bounds\n",
    "    result.upper_bound(r, 3*max(obj.r0,obj.rf))\n",
    "    result.upper_bound(np.sqrt(np.square(ur1-ur2) + np.square(ut1-ut2)), obj.u_max)\n",
    "    #result.upper_bound(ut1, obj.u_max)\n",
    "    #result.upper_bound(ur2, obj.u_max)\n",
    "    #result.upper_bound(ut2, obj.u_max)\n",
    "    result.upper_bound(tf, obj.tf_max)\n",
    "    \n",
    "    \n",
    "    \n",
    "\n",
    "    return result()\n",
    "\n",
    "\n",
    "def cost(prob, obj):\n",
    "    return 0.0\n",
    "\n",
    "\n",
    "def running_cost(prob, obj):\n",
    "    ur1 = prob.controls_all_section(0)\n",
    "    ur2 = prob.controls_all_section(1)\n",
    "    ut1 = prob.controls_all_section(2)\n",
    "    ut2 = prob.controls_all_section(3)\n",
    "    \n",
    "    netaccel = np.np.sqrt(np.square(ur1 + ur2) + np.square(ut1 + ut2));\n",
    "    \n",
    "    if 0:\n",
    "        print(type(ur1))\n",
    "        print(ur1.size)\n",
    "        print((ur1+ur2+ut1+ut2).size)\n",
    "        print(netaccel.size)\n",
    "    \n",
    "    time_weight = 1/20\n",
    "\n",
    "    return time_weight + netaccel"
   ]
  },
  {
   "cell_type": "code",
   "execution_count": 23,
   "metadata": {},
   "outputs": [
    {
     "data": {
      "image/png": "[encoded data removed]",
      "text/plain": [
       "<Figure size 432x288 with 1 Axes>"
      ]
     },
     "metadata": {
      "needs_background": "light"
     },
     "output_type": "display_data"
    },
    {
     "data": {
      "image/png": "[encoded data removed]",
      "text/plain": [
       "<Figure size 432x288 with 1 Axes>"
      ]
     },
     "metadata": {
      "needs_background": "light"
     },
     "output_type": "display_data"
    },
    {
     "data": {
      "image/png": "[encoded data removed]",
      "text/plain": [
       "<Figure size 432x288 with 1 Axes>"
      ]
     },
     "metadata": {
      "needs_background": "light"
     },
     "output_type": "display_data"
    },
    {
     "data": {
      "image/png": "[encoded data removed]",
      "text/plain": [
       "<Figure size 432x288 with 1 Axes>"
      ]
     },
     "metadata": {
      "needs_background": "light"
     },
     "output_type": "display_data"
    },
    {
     "data": {
      "image/png": "[encoded data removed]",
      "text/plain": [
       "<Figure size 432x288 with 1 Axes>"
      ]
     },
     "metadata": {
      "needs_background": "light"
     },
     "output_type": "display_data"
    }
   ],
   "source": [
    "# ========================\n",
    "plt.close(\"all\")\n",
    "plt.ion()\n",
    "# Program Starting Point\n",
    "\n",
    "obj = Orbiter()\n",
    "\n",
    "\n",
    "time_init = [0.0, obj.tf_max]\n",
    "n = [100]\n",
    "num_states = [3]\n",
    "num_controls = [4]\n",
    "max_iteration = 10\n",
    "\n",
    "flag_savefig = False\n",
    "\n",
    "savefig_dir = \"10_Low_Thrust_Orbit_Transfer/\"\n",
    "\n",
    "# ------------------------\n",
    "# set OpenGoddard class for algorithm determination\n",
    "prob = og.Problem(time_init, n, num_states, num_controls, max_iteration)\n",
    "\n",
    "\n",
    "# ========================\n",
    "# Initial parameter guess\n",
    "r_init = og.Guess.linear(prob.time_all_section, obj.r0, obj.rf)\n",
    "og.Guess.plot(prob.time_all_section, r_init, \"r\", \"time\", \"r\")\n",
    "\n",
    "\n",
    "vr_init = og.Guess.linear(prob.time_all_section, obj.vr0, obj.vrf)\n",
    "og.Guess.plot(prob.time_all_section, vr_init, \"vr\", \"time\", \"vr\")\n",
    "\n",
    "\n",
    "vt_init = og.Guess.linear(prob.time_all_section, obj.vt0, obj.vtf)\n",
    "og.Guess.plot(prob.time_all_section, vt_init, \"vt\", \"time\", \"vt\")\n",
    "\n",
    "\n",
    "ur1_init = og.Guess.linear(prob.time_all_section, obj.u_max, obj.u_max)\n",
    "og.Guess.plot(prob.time_all_section, ur1_init, \"ur1\", \"time\", \"ur1\")\n",
    "\n",
    "\n",
    "ut1_init = og.Guess.linear(prob.time_all_section, obj.u_max, obj.u_max)\n",
    "og.Guess.plot(prob.time_all_section, ut1_init, \"ut1\", \"time\", \"ut1\")\n"
   ]
  },
  {
   "cell_type": "code",
   "execution_count": 24,
   "metadata": {},
   "outputs": [
    {
     "name": "stdout",
     "output_type": "stream",
     "text": [
      "---- iteration : 1 ----\n"
     ]
    },
    {
     "ename": "AttributeError",
     "evalue": "module 'numpy' has no attribute 'np'",
     "output_type": "error",
     "traceback": [
      "\u001b[0;31m---------------------------------------------------------------------------\u001b[0m",
      "\u001b[0;31mAttributeError\u001b[0m                            Traceback (most recent call last)",
      "\u001b[0;32m<ipython-input-24-99676aa66392>\u001b[0m in \u001b[0;36m<module>\u001b[0;34m\u001b[0m\n\u001b[1;32m     21\u001b[0m \u001b[0;34m\u001b[0m\u001b[0m\n\u001b[1;32m     22\u001b[0m \u001b[0;34m\u001b[0m\u001b[0m\n\u001b[0;32m---> 23\u001b[0;31m \u001b[0mprob\u001b[0m\u001b[0;34m.\u001b[0m\u001b[0msolve\u001b[0m\u001b[0;34m(\u001b[0m\u001b[0mobj\u001b[0m\u001b[0;34m,\u001b[0m \u001b[0mdisplay_func\u001b[0m\u001b[0;34m,\u001b[0m \u001b[0mftol\u001b[0m\u001b[0;34m=\u001b[0m\u001b[0;36m1e-6\u001b[0m\u001b[0;34m)\u001b[0m\u001b[0;34m\u001b[0m\u001b[0;34m\u001b[0m\u001b[0m\n\u001b[0m",
      "\u001b[0;32m~/Documents/GitHub/electricTortoise/mypython/lib/python3.6/site-packages/OpenGoddard/optimize.py\u001b[0m in \u001b[0;36msolve\u001b[0;34m(self, obj, display_func, **options)\u001b[0m\n\u001b[1;32m    679\u001b[0m                                     options={\"disp\": True,\n\u001b[1;32m    680\u001b[0m                                              \u001b[0;34m\"maxiter\"\u001b[0m\u001b[0;34m:\u001b[0m \u001b[0mmaxiter\u001b[0m\u001b[0;34m,\u001b[0m\u001b[0;34m\u001b[0m\u001b[0;34m\u001b[0m\u001b[0m\n\u001b[0;32m--> 681\u001b[0;31m                                              \"ftol\": ftol})\n\u001b[0m\u001b[1;32m    682\u001b[0m             \u001b[0mprint\u001b[0m\u001b[0;34m(\u001b[0m\u001b[0mopt\u001b[0m\u001b[0;34m.\u001b[0m\u001b[0mmessage\u001b[0m\u001b[0;34m)\u001b[0m\u001b[0;34m\u001b[0m\u001b[0;34m\u001b[0m\u001b[0m\n\u001b[1;32m    683\u001b[0m             \u001b[0mdisplay_func\u001b[0m\u001b[0;34m(\u001b[0m\u001b[0;34m)\u001b[0m\u001b[0;34m\u001b[0m\u001b[0;34m\u001b[0m\u001b[0m\n",
      "\u001b[0;32m~/Documents/GitHub/electricTortoise/mypython/lib/python3.6/site-packages/scipy/optimize/_minimize.py\u001b[0m in \u001b[0;36mminimize\u001b[0;34m(fun, x0, args, method, jac, hess, hessp, bounds, constraints, tol, callback, options)\u001b[0m\n\u001b[1;32m    606\u001b[0m     \u001b[0;32melif\u001b[0m \u001b[0mmeth\u001b[0m \u001b[0;34m==\u001b[0m \u001b[0;34m'slsqp'\u001b[0m\u001b[0;34m:\u001b[0m\u001b[0;34m\u001b[0m\u001b[0;34m\u001b[0m\u001b[0m\n\u001b[1;32m    607\u001b[0m         return _minimize_slsqp(fun, x0, args, jac, bounds,\n\u001b[0;32m--> 608\u001b[0;31m                                constraints, callback=callback, **options)\n\u001b[0m\u001b[1;32m    609\u001b[0m     \u001b[0;32melif\u001b[0m \u001b[0mmeth\u001b[0m \u001b[0;34m==\u001b[0m \u001b[0;34m'trust-constr'\u001b[0m\u001b[0;34m:\u001b[0m\u001b[0;34m\u001b[0m\u001b[0;34m\u001b[0m\u001b[0m\n\u001b[1;32m    610\u001b[0m         return _minimize_trustregion_constr(fun, x0, args, jac, hess, hessp,\n",
      "\u001b[0;32m~/Documents/GitHub/electricTortoise/mypython/lib/python3.6/site-packages/scipy/optimize/slsqp.py\u001b[0m in \u001b[0;36m_minimize_slsqp\u001b[0;34m(func, x0, args, jac, bounds, constraints, maxiter, ftol, iprint, disp, eps, callback, **unknown_options)\u001b[0m\n\u001b[1;32m    313\u001b[0m               for c in cons['eq']]))\n\u001b[1;32m    314\u001b[0m     mieq = sum(map(len, [atleast_1d(c['fun'](x, *c['args']))\n\u001b[0;32m--> 315\u001b[0;31m                for c in cons['ineq']]))\n\u001b[0m\u001b[1;32m    316\u001b[0m     \u001b[0;31m# m = The total number of constraints\u001b[0m\u001b[0;34m\u001b[0m\u001b[0;34m\u001b[0m\u001b[0;34m\u001b[0m\u001b[0m\n\u001b[1;32m    317\u001b[0m     \u001b[0mm\u001b[0m \u001b[0;34m=\u001b[0m \u001b[0mmeq\u001b[0m \u001b[0;34m+\u001b[0m \u001b[0mmieq\u001b[0m\u001b[0;34m\u001b[0m\u001b[0;34m\u001b[0m\u001b[0m\n",
      "\u001b[0;32m~/Documents/GitHub/electricTortoise/mypython/lib/python3.6/site-packages/scipy/optimize/slsqp.py\u001b[0m in \u001b[0;36m<listcomp>\u001b[0;34m(.0)\u001b[0m\n\u001b[1;32m    313\u001b[0m               for c in cons['eq']]))\n\u001b[1;32m    314\u001b[0m     mieq = sum(map(len, [atleast_1d(c['fun'](x, *c['args']))\n\u001b[0;32m--> 315\u001b[0;31m                for c in cons['ineq']]))\n\u001b[0m\u001b[1;32m    316\u001b[0m     \u001b[0;31m# m = The total number of constraints\u001b[0m\u001b[0;34m\u001b[0m\u001b[0;34m\u001b[0m\u001b[0;34m\u001b[0m\u001b[0m\n\u001b[1;32m    317\u001b[0m     \u001b[0mm\u001b[0m \u001b[0;34m=\u001b[0m \u001b[0mmeq\u001b[0m \u001b[0;34m+\u001b[0m \u001b[0mmieq\u001b[0m\u001b[0;34m\u001b[0m\u001b[0;34m\u001b[0m\u001b[0m\n",
      "\u001b[0;32m~/Documents/GitHub/electricTortoise/mypython/lib/python3.6/site-packages/OpenGoddard/optimize.py\u001b[0m in \u001b[0;36mfor_solver\u001b[0;34m(p, arg0, arg1)\u001b[0m\n\u001b[1;32m    645\u001b[0m             \u001b[0;32mdef\u001b[0m \u001b[0mfor_solver\u001b[0m\u001b[0;34m(\u001b[0m\u001b[0mp\u001b[0m\u001b[0;34m,\u001b[0m \u001b[0marg0\u001b[0m\u001b[0;34m,\u001b[0m \u001b[0marg1\u001b[0m\u001b[0;34m)\u001b[0m\u001b[0;34m:\u001b[0m\u001b[0;34m\u001b[0m\u001b[0;34m\u001b[0m\u001b[0m\n\u001b[1;32m    646\u001b[0m                 \u001b[0mself\u001b[0m\u001b[0;34m.\u001b[0m\u001b[0mp\u001b[0m \u001b[0;34m=\u001b[0m \u001b[0mp\u001b[0m\u001b[0;34m\u001b[0m\u001b[0;34m\u001b[0m\u001b[0m\n\u001b[0;32m--> 647\u001b[0;31m                 \u001b[0;32mreturn\u001b[0m \u001b[0mfunc\u001b[0m\u001b[0;34m(\u001b[0m\u001b[0marg0\u001b[0m\u001b[0;34m,\u001b[0m \u001b[0marg1\u001b[0m\u001b[0;34m)\u001b[0m\u001b[0;34m\u001b[0m\u001b[0;34m\u001b[0m\u001b[0m\n\u001b[0m\u001b[1;32m    648\u001b[0m             \u001b[0;32mreturn\u001b[0m \u001b[0mfor_solver\u001b[0m\u001b[0;34m\u001b[0m\u001b[0;34m\u001b[0m\u001b[0m\n\u001b[1;32m    649\u001b[0m \u001b[0;34m\u001b[0m\u001b[0m\n",
      "\u001b[0;32m<ipython-input-22-8c9417e56bbe>\u001b[0m in \u001b[0;36minequality\u001b[0;34m(prob, obj)\u001b[0m\n\u001b[1;32m    113\u001b[0m     \u001b[0;31m# upper bounds\u001b[0m\u001b[0;34m\u001b[0m\u001b[0;34m\u001b[0m\u001b[0;34m\u001b[0m\u001b[0m\n\u001b[1;32m    114\u001b[0m     \u001b[0mresult\u001b[0m\u001b[0;34m.\u001b[0m\u001b[0mupper_bound\u001b[0m\u001b[0;34m(\u001b[0m\u001b[0mr\u001b[0m\u001b[0;34m,\u001b[0m \u001b[0;36m3\u001b[0m\u001b[0;34m*\u001b[0m\u001b[0mmax\u001b[0m\u001b[0;34m(\u001b[0m\u001b[0mobj\u001b[0m\u001b[0;34m.\u001b[0m\u001b[0mr0\u001b[0m\u001b[0;34m,\u001b[0m\u001b[0mobj\u001b[0m\u001b[0;34m.\u001b[0m\u001b[0mrf\u001b[0m\u001b[0;34m)\u001b[0m\u001b[0;34m)\u001b[0m\u001b[0;34m\u001b[0m\u001b[0;34m\u001b[0m\u001b[0m\n\u001b[0;32m--> 115\u001b[0;31m     \u001b[0mresult\u001b[0m\u001b[0;34m.\u001b[0m\u001b[0mupper_bound\u001b[0m\u001b[0;34m(\u001b[0m\u001b[0mnp\u001b[0m\u001b[0;34m.\u001b[0m\u001b[0mnp\u001b[0m\u001b[0;34m.\u001b[0m\u001b[0msqrt\u001b[0m\u001b[0;34m(\u001b[0m\u001b[0mnp\u001b[0m\u001b[0;34m.\u001b[0m\u001b[0msquare\u001b[0m\u001b[0;34m(\u001b[0m\u001b[0mur1\u001b[0m\u001b[0;34m-\u001b[0m\u001b[0mur2\u001b[0m\u001b[0;34m)\u001b[0m \u001b[0;34m+\u001b[0m \u001b[0mnp\u001b[0m\u001b[0;34m.\u001b[0m\u001b[0msquare\u001b[0m\u001b[0;34m(\u001b[0m\u001b[0mut1\u001b[0m\u001b[0;34m-\u001b[0m\u001b[0mut2\u001b[0m\u001b[0;34m)\u001b[0m\u001b[0;34m)\u001b[0m\u001b[0;34m,\u001b[0m \u001b[0mobj\u001b[0m\u001b[0;34m.\u001b[0m\u001b[0mu_max\u001b[0m\u001b[0;34m)\u001b[0m\u001b[0;34m\u001b[0m\u001b[0;34m\u001b[0m\u001b[0m\n\u001b[0m\u001b[1;32m    116\u001b[0m     \u001b[0;31m#result.upper_bound(ut1, obj.u_max)\u001b[0m\u001b[0;34m\u001b[0m\u001b[0;34m\u001b[0m\u001b[0;34m\u001b[0m\u001b[0m\n\u001b[1;32m    117\u001b[0m     \u001b[0;31m#result.upper_bound(ur2, obj.u_max)\u001b[0m\u001b[0;34m\u001b[0m\u001b[0;34m\u001b[0m\u001b[0;34m\u001b[0m\u001b[0m\n",
      "\u001b[0;31mAttributeError\u001b[0m: module 'numpy' has no attribute 'np'"
     ]
    }
   ],
   "source": [
    "prob.set_states_all_section(0, r_init)\n",
    "prob.set_states_all_section(1, vr_init)\n",
    "prob.set_states_all_section(2, vt_init)\n",
    "prob.set_controls_all_section(0, ur1_init)\n",
    "prob.set_controls_all_section(2, ut1_init)\n",
    "\n",
    "# ========================\n",
    "# Main Process\n",
    "# Assign problem to SQP solver\n",
    "prob.dynamics = [dynamics]\n",
    "prob.knot_states_smooth = []\n",
    "prob.cost = cost\n",
    "prob.running_cost = running_cost\n",
    "prob.equality = equality\n",
    "prob.inequality = inequality\n",
    "\n",
    "\n",
    "def display_func():\n",
    "    tf = prob.time_final(-1)\n",
    "    print(\"tf: {0:.5f}\".format(tf))\n",
    "\n",
    "\n",
    "prob.solve(obj, display_func, ftol=1e-6)"
   ]
  },
  {
   "cell_type": "code",
   "execution_count": null,
   "metadata": {},
   "outputs": [],
   "source": []
  }
 ],
 "metadata": {
  "kernelspec": {
   "display_name": "electricTortoiseEnv",
   "language": "python",
   "name": "electrictortoiseenv"
  },
  "language_info": {
   "codemirror_mode": {
    "name": "ipython",
    "version": 3
   },
   "file_extension": ".py",
   "mimetype": "text/x-python",
   "name": "python",
   "nbconvert_exporter": "python",
   "pygments_lexer": "ipython3",
   "version": "3.6.7"
  }
 },
 "nbformat": 4,
 "nbformat_minor": 2
}
