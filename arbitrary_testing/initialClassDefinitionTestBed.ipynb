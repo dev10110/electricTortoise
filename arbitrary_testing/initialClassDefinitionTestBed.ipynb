{
 "cells": [
  {
   "cell_type": "code",
   "execution_count": 260,
   "metadata": {},
   "outputs": [],
   "source": [
    "from __future__ import print_function\n",
    "import numpy as np\n",
    "import astropy.units as u\n",
    "import astropy.constants as consts\n",
    "import matplotlib.pyplot as plt\n",
    "import OpenGoddard.optimize as og\n",
    "import poliastro as pa\n",
    "import math\n",
    "import poliastro.bodies as paBody"
   ]
  },
  {
   "cell_type": "code",
   "execution_count": 261,
   "metadata": {},
   "outputs": [
    {
     "data": {
      "text/latex": [
       "$\\mathrm{yr}$"
      ],
      "text/plain": [
       "Unit(\"yr\")"
      ]
     },
     "execution_count": 261,
     "metadata": {},
     "output_type": "execute_result"
    }
   ],
   "source": [
    "u.year"
   ]
  },
  {
   "cell_type": "code",
   "execution_count": 262,
   "metadata": {},
   "outputs": [
    {
     "data": {
      "text/latex": [
       "$2 \\; \\mathrm{kg}$"
      ],
      "text/plain": [
       "<Quantity 2. kg>"
      ]
     },
     "execution_count": 262,
     "metadata": {},
     "output_type": "execute_result"
    }
   ],
   "source": [
    "2*(paBody.Sun.mass).unit"
   ]
  },
  {
   "cell_type": "code",
   "execution_count": 263,
   "metadata": {},
   "outputs": [],
   "source": [
    "class System():\n",
    "    def __init__(self, attractor=paBody.Sun, lref = 1*u.AU, mref = 1*u.kg):\n",
    "        \n",
    "        #define constants\n",
    "        self.attractor = attractor\n",
    "        self.mu = consts.G*attractor.mass\n",
    "        \n",
    "        #define non-dimensionalization parameters\n",
    "        self.lref = lref.si;\n",
    "        self.mref = mref.si;\n",
    "        self.vref = (np.sqrt(self.mu/self.lref)).si #v of orbit around the attractor at lref distance\n",
    "        self.tref = (self.lref/self.vref).si #note, this is not one year\n",
    "        self.aref = ((self.vref)**2/self.lref).si\n",
    "        self.thref = 1*u.rad; #angular reference\n",
    "        self.omref = (self.thref/self.tref).si; #angular velocity unit (om for omega)\n",
    "    \n",
    "    def gravity(self,pos, dimensional=True):\n",
    "        \"\"\"\n",
    "        Returns the gravitational acceleration at a given point, in polar coordinates. \n",
    "        Currently assumes there is only one attracting body.\n",
    "        \n",
    "        Arg:\n",
    "            Pos: [r, theta] is the position from the main attractor\n",
    "            Dimensional: If true, returns astropy quantities, else returns non-dimensionalized python scalars.\n",
    "            \n",
    "        Returns: (a_r, a_theta) which is the radial and tangential gravitational acceleration vector. \n",
    "        \n",
    "        \"\"\"\n",
    "        \n",
    "        if dimensional== True:\n",
    "            a_r = -(self.mu/(pos[0]**2)).si\n",
    "            a_t = 0*(a_r.unit) #ensure they are of the same units\n",
    "        else:\n",
    "            a_r = -(1/(pos[0]**2))\n",
    "            a_t = 0 #ensure they are of the same units\n",
    "        \n",
    "        return (a_r, a_t)\n",
    "        \n",
    "    def __str__(self):\n",
    "        return 'System with attractor: {}'.format(self.attractor)"
   ]
  },
  {
   "cell_type": "code",
   "execution_count": 264,
   "metadata": {},
   "outputs": [],
   "source": [
    "sys = System()"
   ]
  },
  {
   "cell_type": "code",
   "execution_count": 265,
   "metadata": {},
   "outputs": [
    {
     "data": {
      "text/plain": [
       "(-0.04, 0)"
      ]
     },
     "execution_count": 265,
     "metadata": {},
     "output_type": "execute_result"
    }
   ],
   "source": [
    "sys.gravity((5,0),dimensional=False)"
   ]
  },
  {
   "cell_type": "code",
   "execution_count": 266,
   "metadata": {},
   "outputs": [
    {
     "data": {
      "text/latex": [
       "$6.9684429 \\times 10^{-7} \\; \\mathrm{\\frac{yr}{s}}$"
      ],
      "text/plain": [
       "<Quantity 6.96844292e-07 yr / s>"
      ]
     },
     "execution_count": 266,
     "metadata": {},
     "output_type": "execute_result"
    }
   ],
   "source": [
    "(3.5*u.year/sys.tref)"
   ]
  },
  {
   "cell_type": "code",
   "execution_count": 267,
   "metadata": {},
   "outputs": [
    {
     "data": {
      "text/plain": [
       "21.990733415635905"
      ]
     },
     "execution_count": 267,
     "metadata": {},
     "output_type": "execute_result"
    }
   ],
   "source": [
    "float(3.5*u.year/sys.tref)"
   ]
  },
  {
   "cell_type": "code",
   "execution_count": 268,
   "metadata": {},
   "outputs": [
    {
     "data": {
      "text/latex": [
       "$1.3271244 \\times 10^{20} \\; \\mathrm{\\frac{m^{3}}{s^{2}}}$"
      ],
      "text/plain": [
       "<Quantity 1.32712442e+20 m3 / s2>"
      ]
     },
     "execution_count": 268,
     "metadata": {},
     "output_type": "execute_result"
    }
   ],
   "source": [
    "sys.mu\n"
   ]
  },
  {
   "cell_type": "code",
   "execution_count": 269,
   "metadata": {},
   "outputs": [
    {
     "data": {
      "text/latex": [
       "$0.5 \\; \\mathrm{}$"
      ],
      "text/plain": [
       "<Quantity 0.5>"
      ]
     },
     "execution_count": 269,
     "metadata": {},
     "output_type": "execute_result"
    }
   ],
   "source": [
    "(90*u.deg/(math.pi*u.rad)).si"
   ]
  },
  {
   "cell_type": "code",
   "execution_count": null,
   "metadata": {},
   "outputs": [],
   "source": []
  },
  {
   "cell_type": "code",
   "execution_count": 306,
   "metadata": {},
   "outputs": [],
   "source": [
    "class Mission():\n",
    "    \n",
    "    def __init__(self, system):\n",
    "        \"\"\"\n",
    "        Initializes the Mission.\n",
    "        \n",
    "        Args:\n",
    "            system (electricTortoise/System)\n",
    "        \n",
    "        \"\"\"\n",
    "        #Requires the system to be set up first. \n",
    "        #Calls on the system properties.\n",
    "        \n",
    "        self.sys = system\n",
    "        \n",
    "    def spacecraft_properties(self, c = 3000*u.m/u.s):\n",
    "        \"\"\" \n",
    "        Function defines the key parameters of the spacecraft\n",
    "        \n",
    "        Args: \n",
    "            c (Astropy/Quantity): Engine exhaust speed (for example in m/s)\n",
    "        \"\"\"\n",
    "        \n",
    "        self.c = c\n",
    "        self.nd_c = float(self.c/self.sys.vref)\n",
    "        \n",
    "        \n",
    "    #set up the problem\n",
    "    def define_problem_single_phase(self, num_nodes = 20, max_iterations = 5):\n",
    "        \n",
    "        \"\"\"\n",
    "        Defines the openGoddard problem statement, assuming the entire problem is to be solved in a single phase. \n",
    "        \n",
    "        Args:\n",
    "            num_nodes (int): Number of computation points in time axis.\n",
    "            max_iterations (int):  Maximum number of iterations.\n",
    "            \n",
    "            Hint. \n",
    "            More nodes allow for higher degree approximations of the solution\n",
    "            More iterations allow for finer tuning of the solution towards optimal. \n",
    "            \n",
    "        Returns:\n",
    "            None.\n",
    "        \"\"\"\n",
    "        \n",
    "        #Define time bounds\n",
    "        time_init = [0.0, self.nd_T_max]\n",
    "        \n",
    "        n = [num_nodes]\n",
    "        max_iterations = max_iterations\n",
    "        \n",
    "        #hard coded the number of states\n",
    "        num_states = [5]\n",
    "        num_controls = [2]\n",
    "        \n",
    "        #define problem\n",
    "        self.problem = og.Problem(time_init, n, num_states, num_controls, max_iterations)\n",
    "        \n",
    "        #create time vector\n",
    "        self.nd_time = self.problem.time_all_section\n",
    "        self.time = self.nd_time*self.sys.tref\n",
    "        return\n",
    "    \n",
    "    def get_states(self):\n",
    "        \"\"\" Function returns tuple of state arrays\"\"\"\n",
    "        m  = self.problem.states_all_section(0)\n",
    "        r  = self.problem.states_all_section(1)\n",
    "        th = self.problem.states_all_section(2)\n",
    "        vr = self.problem.states_all_section(3)\n",
    "        vt = self.problem.states_all_section(4)\n",
    "        \n",
    "        return (m,r,th,vr,vt)\n",
    "    \n",
    "    def get_controls(self):\n",
    "        \"\"\" Function returns tuple of control arrays\"\"\"\n",
    "        Tr = self.problem.controls_all_section(0)\n",
    "        Tt = self.problem.controls_all_section(1)\n",
    "        \n",
    "        return (Tr, Tt)\n",
    "    \n",
    "    \n",
    "    def dynamics(self, prob, obj, section):\n",
    "        \n",
    "        #states must be dimensionless here. Or at least in a consistent set of units.\n",
    "        \n",
    "        states = self.get_states()\n",
    "        controls = self.get_controls()\n",
    "        \n",
    "        #determine rate of change of state\n",
    "        changes = self.spacecraft_dynamics(states,controls,dimensionless=True,simple_gravity=True)\n",
    "        \n",
    "        print(len(changes))\n",
    "        \n",
    "        #store into dynamics object\n",
    "        dx = og.Dynamics(prob, section)\n",
    "        for i in range(len(changes)):\n",
    "            dx[i] = changes[i]\n",
    "            \n",
    "        return dx()\n",
    "    \n",
    "        \n",
    "    def set_max_final_time(self, T_max = 3*u.year):\n",
    "        \"\"\"\n",
    "        Sets the maximum final time of the mission (both dimensional and non-dimensional). \n",
    "        \n",
    "        Args:\n",
    "            T_max (Astropy/Quantity): Final time for mission.\n",
    "\n",
    "        Returns:\n",
    "            None.\n",
    "        \"\"\"\n",
    "        \n",
    "        self.T_max = T_max\n",
    "        \n",
    "        #set the non-dimensionalized float\n",
    "        self.nd_T_max = float(T_max/self.sys.tref)\n",
    "        \n",
    "        return\n",
    "    \n",
    "    def set_full_initial_state(self, initial_state):\n",
    "        \"\"\"\n",
    "        Sets the initial state of the problem fully.\n",
    "        Using this function explicity sets the starting state.\n",
    "        \n",
    "        Args:\n",
    "            initial_state (5x1 array of Astropy/Quantities): State vector. \n",
    "            \n",
    "            State Vector = (Mass, Radial Position, Angular Position, Radial Velocity, Tangential Velocity)\n",
    "            \n",
    "        Retuns:\n",
    "            None.\n",
    "        \"\"\"\n",
    "        self.desired_initial_state = initial_state\n",
    "            \n",
    "        self.m0  = initial_state[0]\n",
    "        self.r0  = initial_state[1]\n",
    "        self.th0 = initial_state[2]\n",
    "        self.vr0 = initial_state[3]\n",
    "        self.vt0 = initial_state[4]\n",
    "        \n",
    "        #save non-dimensional versions\n",
    "        self.nd_m0  = float(self.m0 /self.sys.mref);\n",
    "        self.nd_r0  = float(self.r0 /self.sys.lref);\n",
    "        self.nd_th0 = float(self.th0/self.sys.thref)\n",
    "        self.nd_vr0 = float(self.vr0/self.sys.vref)\n",
    "        self.nd_vt0 = float(self.vt0/self.sys.vref)\n",
    "        \n",
    "        return\n",
    "    \n",
    "    def set_full_final_state(self, final_state):\n",
    "        \"\"\"\n",
    "        Sets the final state of the problem fully.\n",
    "        Using this function explicity sets the ending state.\n",
    "        \n",
    "        Args:\n",
    "            final_state (5x1 array of Astropy/Quantities): State vector. \n",
    "            \n",
    "            State Vector = (Mass, Radial Position, Angular Position, Radial Velocity, Tangential Velocity)\n",
    "            \n",
    "        Retuns:\n",
    "            None.\n",
    "        \"\"\"\n",
    "        \n",
    "        self.desired_final_state = final_state\n",
    "        \n",
    "        self.mf  = final_state[0]\n",
    "        self.rf  = final_state[1]\n",
    "        self.thf = final_state[2]\n",
    "        self.vrf = final_state[3]\n",
    "        self.vtf = final_state[4]\n",
    "        \n",
    "        #save non-dimensional versions\n",
    "        self.nd_mf  = float(self.mf /self.sys.mref);\n",
    "        self.nd_rf  = float(self.rf /self.sys.lref);\n",
    "        self.nd_thf = float(self.thf/self.sys.thref)\n",
    "        self.nd_vrf = float(self.vrf/self.sys.vref)\n",
    "        self.nd_vtf = float(self.vtf/self.sys.vref)\n",
    "        \n",
    "        return\n",
    "    \n",
    "    def get_time_vector(self,dimensionless=False):\n",
    "        \"\"\"Getter for time vector. \n",
    "        \n",
    "        Args:\n",
    "            dimensionless (boolean): If True, returns float array of times. If False, returns time array as Astropy/Quantity\n",
    "            \n",
    "        Returns:\n",
    "            Time vector.\n",
    "        \"\"\"\n",
    "        #get updated time from the problem.\n",
    "        self.nd_time = self.problem.time_update()\n",
    "        self.time = self.nd_time*self.sys.tref;\n",
    "        \n",
    "        if dimensionless == True:\n",
    "            return self.nd_time\n",
    "        else:\n",
    "            return self.time\n",
    "    \n",
    "    def spacecraft_dynamics(self, state, controls = None, dimensionless = True,simple_gravity = True):\n",
    "        \"\"\"\n",
    "            Function returns the rate of change of the state of the spacecraft. \n",
    "        \"\"\"\n",
    "        m  = state[0]\n",
    "        r  = state[1]\n",
    "        th = state[2]\n",
    "        vr = state[3]\n",
    "        vt = state[4]\n",
    "        \n",
    "        if controls is not None:\n",
    "            Tr = controls[0]\n",
    "            Tt = controls[1]\n",
    "        else:\n",
    "            Tr = np.zeros_like(m)\n",
    "            Tt = np.zeros_like(m)\n",
    "            \n",
    "        \n",
    "        T_mag = np.sqrt(Tr**2+Tt**2)\n",
    "        \n",
    "        if dimensionless == True:\n",
    "            mdot = -T_mag/self.nd_c\n",
    "            rdot = vr\n",
    "            thdot = vt/r\n",
    "            vrdot = vt**2 / r - 1 / r**2 + Tr/m\n",
    "            vtdot = - vr * vt / r + Tt/m\n",
    "        \n",
    "        if dimensionless == False:\n",
    "            mdot = -T_mag/self.c\n",
    "            rdot = vr\n",
    "            thdot = vt/r\n",
    "            vrdot = vt**2 / r - self.sys.mu / r**2 + Tr/m\n",
    "            vtdot = - vr * vt / r + Tt/m\n",
    "            \n",
    "        return (mdot,rdot,thdot,vrdot,vtdot)\n",
    "    \n",
    "        \n",
    "    "
   ]
  },
  {
   "cell_type": "code",
   "execution_count": 307,
   "metadata": {},
   "outputs": [],
   "source": [
    "mission=Mission(sys)\n",
    "mission.set_max_final_time(7*u.year)\n",
    "mission.spacecraft_properties(c = 3000*u.m/u.s)\n",
    "mission.set_full_initial_state([2000*u.kg, 1*u.AU, 0*u.rad, 0*u.m/u.s, 0*u.m/u.s])\n",
    "mission.set_full_final_state([1000*u.kg, 2*u.AU, 0*u.rad, 0*u.m/u.s, 0*u.m/u.s])"
   ]
  },
  {
   "cell_type": "code",
   "execution_count": 308,
   "metadata": {},
   "outputs": [
    {
     "data": {
      "text/plain": [
       "43.98146683127181"
      ]
     },
     "execution_count": 308,
     "metadata": {},
     "output_type": "execute_result"
    }
   ],
   "source": [
    "mission.nd_T_max"
   ]
  },
  {
   "cell_type": "code",
   "execution_count": 309,
   "metadata": {},
   "outputs": [
    {
     "name": "stdout",
     "output_type": "stream",
     "text": [
      "[<Quantity 2000. kg>, <Quantity 1. AU>, <Quantity 0. rad>, <Quantity 0. m / s>, <Quantity 0. m / s>]\n",
      "[<Quantity 1000. kg>, <Quantity 2. AU>, <Quantity 0. rad>, <Quantity 0. m / s>, <Quantity 0. m / s>]\n"
     ]
    }
   ],
   "source": [
    "print(mission.desired_initial_state)\n",
    "print(mission.desired_final_state)"
   ]
  },
  {
   "cell_type": "code",
   "execution_count": 310,
   "metadata": {},
   "outputs": [],
   "source": [
    "mission.define_problem_single_phase()"
   ]
  },
  {
   "cell_type": "code",
   "execution_count": 311,
   "metadata": {},
   "outputs": [
    {
     "data": {
      "text/latex": [
       "$[0,~0.067397033,~0.22422925,~0.46592708,~0.78621109,~1.1767826,~1.627525,~2.1267639,~2.661569,~3.2180892,~3.7819108,~4.338431,~4.8732361,~5.372475,~5.8232174,~6.2137889,~6.5340729,~6.7757707,~6.932603,~7] \\; \\mathrm{yr}$"
      ],
      "text/plain": [
       "<Quantity [0.        , 0.06739703, 0.22422925, 0.46592708, 0.78621109,\n",
       "           1.17678259, 1.62752498, 2.12676386, 2.66156903, 3.21808922,\n",
       "           3.78191078, 4.33843097, 4.87323614, 5.37247502, 5.82321741,\n",
       "           6.21378891, 6.53407292, 6.77577075, 6.93260297, 7.        ] yr>"
      ]
     },
     "execution_count": 311,
     "metadata": {},
     "output_type": "execute_result"
    }
   ],
   "source": [
    "mission.time.to(u.year)"
   ]
  },
  {
   "cell_type": "code",
   "execution_count": 312,
   "metadata": {},
   "outputs": [
    {
     "data": {
      "text/plain": [
       "[<matplotlib.lines.Line2D at 0x126594710>]"
      ]
     },
     "execution_count": 312,
     "metadata": {},
     "output_type": "execute_result"
    },
    {
     "data": {
      "image/png": "[encoded data removed]",
      "text/plain": [
       "<Figure size 432x288 with 1 Axes>"
      ]
     },
     "metadata": {
      "needs_background": "light"
     },
     "output_type": "display_data"
    }
   ],
   "source": [
    "plt.plot(mission.get_time_vector(dimensionless=False).to(u.year),'.-')"
   ]
  },
  {
   "cell_type": "code",
   "execution_count": 314,
   "metadata": {},
   "outputs": [
    {
     "name": "stdout",
     "output_type": "stream",
     "text": [
      "5\n"
     ]
    },
    {
     "name": "stderr",
     "output_type": "stream",
     "text": [
      "/Users/Devansh/Documents/GitHub/electricTortoise/mypython/lib/python3.6/site-packages/ipykernel_launcher.py:222: RuntimeWarning: invalid value encountered in true_divide\n",
      "/Users/Devansh/Documents/GitHub/electricTortoise/mypython/lib/python3.6/site-packages/ipykernel_launcher.py:223: RuntimeWarning: invalid value encountered in true_divide\n",
      "/Users/Devansh/Documents/GitHub/electricTortoise/mypython/lib/python3.6/site-packages/ipykernel_launcher.py:223: RuntimeWarning: divide by zero encountered in true_divide\n",
      "/Users/Devansh/Documents/GitHub/electricTortoise/mypython/lib/python3.6/site-packages/ipykernel_launcher.py:224: RuntimeWarning: invalid value encountered in true_divide\n"
     ]
    },
    {
     "data": {
      "text/plain": [
       "array([-0., -0., -0., -0., -0., -0., -0., -0., -0., -0., -0., -0., -0.,\n",
       "       -0., -0., -0., -0., -0., -0., -0.,  0.,  0.,  0.,  0.,  0.,  0.,\n",
       "        0.,  0.,  0.,  0.,  0.,  0.,  0.,  0.,  0.,  0.,  0.,  0.,  0.,\n",
       "        0., nan, nan, nan, nan, nan, nan, nan, nan, nan, nan, nan, nan,\n",
       "       nan, nan, nan, nan, nan, nan, nan, nan, nan, nan, nan, nan, nan,\n",
       "       nan, nan, nan, nan, nan, nan, nan, nan, nan, nan, nan, nan, nan,\n",
       "       nan, nan, nan, nan, nan, nan, nan, nan, nan, nan, nan, nan, nan,\n",
       "       nan, nan, nan, nan, nan, nan, nan, nan, nan])"
      ]
     },
     "execution_count": 314,
     "metadata": {},
     "output_type": "execute_result"
    }
   ],
   "source": [
    "mission.dynamics(mission.problem,mission,0)"
   ]
  },
  {
   "cell_type": "code",
   "execution_count": null,
   "metadata": {},
   "outputs": [],
   "source": []
  },
  {
   "cell_type": "code",
   "execution_count": null,
   "metadata": {},
   "outputs": [],
   "source": []
  }
 ],
 "metadata": {
  "kernelspec": {
   "display_name": "electricTortoiseEnv",
   "language": "python",
   "name": "electrictortoiseenv"
  },
  "language_info": {
   "codemirror_mode": {
    "name": "ipython",
    "version": 3
   },
   "file_extension": ".py",
   "mimetype": "text/x-python",
   "name": "python",
   "nbconvert_exporter": "python",
   "pygments_lexer": "ipython3",
   "version": "3.6.7"
  }
 },
 "nbformat": 4,
 "nbformat_minor": 2
}
